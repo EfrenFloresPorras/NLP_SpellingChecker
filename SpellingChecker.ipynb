{
 "cells": [
  {
   "cell_type": "code",
   "execution_count": 21,
   "metadata": {},
   "outputs": [
    {
     "name": "stderr",
     "output_type": "stream",
     "text": [
      "[nltk_data] Downloading package words to\n",
      "[nltk_data]     C:\\Users\\efren\\AppData\\Roaming\\nltk_data...\n",
      "[nltk_data]   Package words is already up-to-date!\n",
      "[nltk_data] Downloading package wordnet to\n",
      "[nltk_data]     C:\\Users\\efren\\AppData\\Roaming\\nltk_data...\n",
      "[nltk_data]   Package wordnet is already up-to-date!\n"
     ]
    },
    {
     "data": {
      "text/plain": [
       "True"
      ]
     },
     "execution_count": 21,
     "metadata": {},
     "output_type": "execute_result"
    }
   ],
   "source": [
    "import re\n",
    "import nltk\n",
    "import tkinter as tk\n",
    "from tkinter.scrolledtext import ScrolledText\n",
    "\n",
    "from nltk.corpus import words\n",
    "from difflib import get_close_matches\n",
    "\n",
    "nltk.download('words')\n",
    "nltk.download('wordnet')"
   ]
  },
  {
   "cell_type": "code",
   "execution_count": 22,
   "metadata": {},
   "outputs": [
    {
     "name": "stdout",
     "output_type": "stream",
     "text": [
      "Requirement already satisfied: contractions in c:\\users\\efren\\documents\\github\\projects\\venvnlp_spellingchecker\\lib\\site-packages (0.1.73)\n",
      "Requirement already satisfied: textsearch>=0.0.21 in c:\\users\\efren\\documents\\github\\projects\\venvnlp_spellingchecker\\lib\\site-packages (from contractions) (0.0.24)\n",
      "Requirement already satisfied: anyascii in c:\\users\\efren\\documents\\github\\projects\\venvnlp_spellingchecker\\lib\\site-packages (from textsearch>=0.0.21->contractions) (0.3.2)\n",
      "Requirement already satisfied: pyahocorasick in c:\\users\\efren\\documents\\github\\projects\\venvnlp_spellingchecker\\lib\\site-packages (from textsearch>=0.0.21->contractions) (2.1.0)\n"
     ]
    }
   ],
   "source": [
    "!pip install contractions\n",
    "import contractions"
   ]
  },
  {
   "cell_type": "code",
   "execution_count": 36,
   "metadata": {},
   "outputs": [
    {
     "name": "stdout",
     "output_type": "stream",
     "text": [
      "Word: I, Clean Word: i\n",
      "Word: am, Clean Word: am\n",
      "Word: I, Clean Word: i\n",
      "Word: am, Clean Word: am\n",
      "Word: I'a, Clean Word: ia\n",
      "Suggestions = I'a: via, ria, pia, iwa, iva\n"
     ]
    },
    {
     "data": {
      "text/plain": [
       "<__main__.SpellChecker at 0x22b8c873da0>"
      ]
     },
     "execution_count": 36,
     "metadata": {},
     "output_type": "execute_result"
    }
   ],
   "source": [
    "class SpellChecker:\n",
    "\n",
    "    def __init__(self):\n",
    "        self.root = tk.Tk()\n",
    "        self.root.geometry('800x500')\n",
    "        self.root.title('Spell Checker')\n",
    "\n",
    "        # Use grid geometry manager for better control\n",
    "        self.root.grid_rowconfigure(0, weight=1)\n",
    "        self.root.grid_columnconfigure(0, weight=1)\n",
    "        self.root.grid_columnconfigure(1, weight=0)\n",
    "\n",
    "        self.text_frame = tk.Frame(self.root)\n",
    "        self.text_frame.grid(row=0, column=0, sticky='nsew')\n",
    "\n",
    "        self.text = ScrolledText(self.text_frame, font=(\"Garamond\", 14))\n",
    "        self.text.pack(fill=tk.BOTH, expand=True)\n",
    "        self.text.bind('<KeyRelease>', self.checkSpelling)\n",
    "\n",
    "        self.suggestions_frame = tk.Frame(self.root, width=300)\n",
    "        self.suggestions_frame.grid(row=0, column=1, sticky='ns')\n",
    "        self.suggestions_frame.grid_propagate(False)  # Prevent frame from resizing\n",
    "\n",
    "        self.suggestions_label = tk.Label(self.suggestions_frame, text=\"Suggestions\", font=(\"Garamond\", 14))\n",
    "        self.suggestions_label.pack()\n",
    "\n",
    "        self.suggestions_list = tk.Listbox(self.suggestions_frame, font=(\"Garamond\", 12))\n",
    "        self.suggestions_list.pack(fill=tk.BOTH, expand=True)\n",
    "\n",
    "        self.old_spaces = 0\n",
    "\n",
    "        self.root.mainloop()\n",
    "\n",
    "    def checkSpelling(self, event):\n",
    "        content = self.text.get('1.0', tk.END)\n",
    "\n",
    "        space_count = content.count(' ')\n",
    "        if space_count != self.old_spaces:\n",
    "            self.old_spaces = space_count\n",
    "            for tag in self.text.tag_names():\n",
    "                self.text.tag_delete(tag)\n",
    "\n",
    "            self.suggestions_list.delete(0, tk.END)\n",
    "\n",
    "            content = contractions.fix(content)\n",
    "            words_list = content.split()\n",
    "\n",
    "            for i, word in enumerate(words_list):\n",
    "                clean_word = re.sub(r'[^\\w]', '', word.lower())\n",
    "                print(f\"Word: {word}, Clean Word: {clean_word}\") # Debugging\n",
    "                if clean_word and clean_word not in words.words():\n",
    "                    start_idx = '1.0'\n",
    "                    while True:\n",
    "                        start_idx = self.text.search(word, start_idx, stopindex=tk.END)\n",
    "                        if not start_idx:\n",
    "                            break\n",
    "                        end_idx = f\"{start_idx}+{len(word)}c\"\n",
    "                        self.text.tag_add(word, start_idx, end_idx)\n",
    "                        self.text.tag_config(word, foreground='red')\n",
    "                        start_idx = end_idx\n",
    "\n",
    "                    suggestions = get_close_matches(clean_word, words.words(), n=5, cutoff=0.8)\n",
    "                    suggestions1 = get_close_matches(clean_word, contractions.contractions_dict.keys(), n=5, cutoff=0.8)\n",
    "                    \n",
    "                    if suggestions or suggestions1:\n",
    "                        self.suggestions_list.insert(tk.END, f\"{word}: {', '.join(suggestions)}\")\n",
    "                        print(f\"Suggestions = {word}: {', '.join(suggestions)}\") # Debugging\n",
    "\n",
    "SpellChecker()"
   ]
  },
  {
   "cell_type": "code",
   "execution_count": 24,
   "metadata": {},
   "outputs": [
    {
     "data": {
      "text/plain": [
       "dict_keys([\"I'm\", \"I'm'a\", \"I'm'o\", \"I've\", \"I'll\", \"I'll've\", \"I'd\", \"I'd've\", 'Whatcha', \"amn't\", \"ain't\", \"aren't\", \"'cause\", \"can't\", \"can't've\", \"could've\", \"couldn't\", \"couldn't've\", \"daren't\", \"daresn't\", \"dasn't\", \"didn't\", 'didn’t', \"don't\", 'don’t', \"doesn't\", \"e'er\", \"everyone's\", 'finna', 'gimme', \"gon't\", 'gonna', 'gotta', \"hadn't\", \"hadn't've\", \"hasn't\", \"haven't\", \"he've\", \"he's\", \"he'll\", \"he'll've\", \"he'd\", \"he'd've\", \"here's\", \"how're\", \"how'd\", \"how'd'y\", \"how's\", \"how'll\", \"isn't\", \"it's\", \"'tis\", \"'twas\", \"it'll\", \"it'll've\", \"it'd\", \"it'd've\", 'kinda', \"let's\", 'luv', \"ma'am\", \"may've\", \"mayn't\", \"might've\", \"mightn't\", \"mightn't've\", \"must've\", \"mustn't\", \"mustn't've\", \"needn't\", \"needn't've\", \"ne'er\", \"o'\", \"o'clock\", \"ol'\", \"oughtn't\", \"oughtn't've\", \"o'er\", \"shan't\", \"sha'n't\", \"shalln't\", \"shan't've\", \"she's\", \"she'll\", \"she'd\", \"she'd've\", \"should've\", \"shouldn't\", \"shouldn't've\", \"so've\", \"so's\", \"somebody's\", \"someone's\", \"something's\", 'sux', \"that're\", \"that's\", \"that'll\", \"that'd\", \"that'd've\", \"'em\", \"there're\", \"there's\", \"there'll\", \"there'd\", \"there'd've\", \"these're\", \"they're\", \"they've\", \"they'll\", \"they'll've\", \"they'd\", \"they'd've\", \"this's\", \"this'll\", \"this'd\", \"those're\", \"to've\", 'wanna', \"wasn't\", \"we're\", \"we've\", \"we'll\", \"we'll've\", \"we'd\", \"we'd've\", \"weren't\", \"what're\", \"what'd\", \"what've\", \"what's\", \"what'll\", \"what'll've\", \"when've\", \"when's\", \"where're\", \"where'd\", \"where've\", \"where's\", \"which's\", \"who're\", \"who've\", \"who's\", \"who'll\", \"who'll've\", \"who'd\", \"who'd've\", \"why're\", \"why'd\", \"why've\", \"why's\", \"will've\", \"won't\", \"won't've\", \"would've\", \"wouldn't\", \"wouldn't've\", \"y'all\", \"y'all're\", \"y'all've\", \"y'all'd\", \"y'all'd've\", \"you're\", \"you've\", \"you'll've\", \"you'll\", \"you'd\", \"you'd've\", 'to cause', 'will cause', 'should cause', 'would cause', 'can cause', 'could cause', 'must cause', 'might cause', 'shall cause', 'may cause', 'jan.', 'feb.', 'mar.', 'apr.', 'jun.', 'jul.', 'aug.', 'sep.', 'oct.', 'nov.', 'dec.', 'I’m', 'I’m’a', 'I’m’o', 'I’ve', 'I’ll', 'I’ll’ve', 'I’d', 'I’d’ve', 'amn’t', 'ain’t', 'aren’t', '’cause', 'can’t', 'can’t’ve', 'could’ve', 'couldn’t', 'couldn’t’ve', 'daren’t', 'daresn’t', 'dasn’t', 'doesn’t', 'e’er', 'everyone’s', 'gon’t', 'hadn’t', 'hadn’t’ve', 'hasn’t', 'haven’t', 'he’ve', 'he’s', 'he’ll', 'he’ll’ve', 'he’d', 'he’d’ve', 'here’s', 'how’re', 'how’d', 'how’d’y', 'how’s', 'how’ll', 'isn’t', 'it’s', '’tis', '’twas', 'it’ll', 'it’ll’ve', 'it’d', 'it’d’ve', 'let’s', 'ma’am', 'may’ve', 'mayn’t', 'might’ve', 'mightn’t', 'mightn’t’ve', 'must’ve', 'mustn’t', 'mustn’t’ve', 'needn’t', 'needn’t’ve', 'ne’er', 'o’', 'o’clock', 'ol’', 'oughtn’t', 'oughtn’t’ve', 'o’er', 'shan’t', 'sha’n’t', 'shalln’t', 'shan’t’ve', 'she’s', 'she’ll', 'she’d', 'she’d’ve', 'should’ve', 'shouldn’t', 'shouldn’t’ve', 'so’ve', 'so’s', 'somebody’s', 'someone’s', 'something’s', 'that’re', 'that’s', 'that’ll', 'that’d', 'that’d’ve', '’em', 'there’re', 'there’s', 'there’ll', 'there’d', 'there’d’ve', 'these’re', 'they’re', 'they’ve', 'they’ll', 'they’ll’ve', 'they’d', 'they’d’ve', 'this’s', 'this’ll', 'this’d', 'those’re', 'to’ve', 'wasn’t', 'we’re', 'we’ve', 'we’ll', 'we’ll’ve', 'we’d', 'we’d’ve', 'weren’t', 'what’re', 'what’d', 'what’ve', 'what’s', 'what’ll', 'what’ll’ve', 'when’ve', 'when’s', 'where’re', 'where’d', 'where’ve', 'where’s', 'which’s', 'who’re', 'who’ve', 'who’s', 'who’ll', 'who’ll’ve', 'who’d', 'who’d’ve', 'why’re', 'why’d', 'why’ve', 'why’s', 'will’ve', 'won’t', 'won’t’ve', 'would’ve', 'wouldn’t', 'wouldn’t’ve', 'y’all', 'y’all’re', 'y’all’ve', 'y’all’d', 'y’all’d’ve', 'you’re', 'you’ve', 'you’ll’ve', 'you’ll', 'you’d', 'you’d’ve'])"
      ]
     },
     "execution_count": 24,
     "metadata": {},
     "output_type": "execute_result"
    }
   ],
   "source": [
    "contractions.contractions_dict.keys()"
   ]
  },
  {
   "cell_type": "code",
   "execution_count": null,
   "metadata": {},
   "outputs": [],
   "source": []
  }
 ],
 "metadata": {
  "kernelspec": {
   "display_name": "venvNLP_SpellingChecker",
   "language": "python",
   "name": "python3"
  },
  "language_info": {
   "codemirror_mode": {
    "name": "ipython",
    "version": 3
   },
   "file_extension": ".py",
   "mimetype": "text/x-python",
   "name": "python",
   "nbconvert_exporter": "python",
   "pygments_lexer": "ipython3",
   "version": "3.12.4"
  }
 },
 "nbformat": 4,
 "nbformat_minor": 2
}
